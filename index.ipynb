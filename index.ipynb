{
 "cells": [
  {
   "cell_type": "markdown",
   "id": "deb79d20",
   "metadata": {},
   "source": [
    "# Hyperspectral Tutorial\n",
    "\n",
    "Example analysis of a hyperspectral image. This includes white reference and dark reference normalization but please note that that sample image (corn kernel) in this case has already been normalized to the white and dark references before the original image was cropped. We are just showing these steps for the sake of the tutorial. "
   ]
  },
  {
   "cell_type": "markdown",
   "id": "7cf926d5-85b0-47c8-ab40-39f3a82c26a6",
   "metadata": {
    "id": "604065b5"
   },
   "source": [
    "# Section 1: Importing Image and Libraries"
   ]
  },
  {
   "cell_type": "code",
   "execution_count": null,
   "id": "968a812b-b9e4-4aa9-bfbb-877f641d6f56",
   "metadata": {
    "id": "62ef791b"
   },
   "outputs": [],
   "source": [
    "# Set the notebook display method\n",
    "# If widget is not working, then change to inline\n",
    "%matplotlib widget\n",
    "\n",
    "# Import libraries\n",
    "from plantcv import plantcv as pcv\n",
    "from plantcv.parallel import WorkflowInputs\n",
    "\n",
    "# Print out the version of PlantCV being used by the Jupyter kernel\n",
    "pcv.__version__"
   ]
  },
  {
   "cell_type": "markdown",
   "id": "63cbb587-b218-4f00-ab7c-b1aa570aa269",
   "metadata": {
    "id": "4468af74"
   },
   "source": [
    "## Input/Output variables\n",
    "\n",
    "The options class mimics the workflow command-line argument parser that is used for workflow parallelization. Using it while developing a workflow in Jupyter makes it easier to convert the workflow to a script later. Remember, always keep your raw images separate from your newly processed images!"
   ]
  },
  {
   "cell_type": "code",
   "execution_count": null,
   "id": "1e7e9b03",
   "metadata": {},
   "outputs": [],
   "source": [
    "# Input/output options\n",
    "args = WorkflowInputs(\n",
    "    images=[\"./img/4-22-22_right_same_B73_top_00.raw\"],\n",
    "    names=\"image1\",\n",
    "    result=\"hyperspectral_result\",\n",
    "    outdir=\".\",\n",
    "    writeimg=True,\n",
    "    debug=\"plot\"\n",
    "    )"
   ]
  },
  {
   "cell_type": "code",
   "execution_count": null,
   "id": "223254b4",
   "metadata": {},
   "outputs": [],
   "source": [
    "# Set debug to the global parameter \n",
    "pcv.params.debug = args.debug\n",
    "# Change display settings\n",
    "pcv.params.dpi = 100\n",
    "# Increase text size and thickness to make labels clearer\n",
    "# (size may need to be altered based on original image size)\n",
    "pcv.params.text_size = 20\n",
    "pcv.params.text_thickness = 20"
   ]
  },
  {
   "cell_type": "markdown",
   "id": "228039bf-3874-4f31-a0e6-20aca41adfe7",
   "metadata": {
    "id": "343a0816"
   },
   "source": [
    "## Read the input image"
   ]
  },
  {
   "cell_type": "markdown",
   "id": "08d26d30-bdc3-4a99-9e92-b4d9c72606ce",
   "metadata": {
    "id": "Q4Na59TNNg1x"
   },
   "source": [
    "### Reading images into your environment using *pcv.readimage()*\n",
    "Inputs:\n",
    "   * filename = Image file to be read in\n",
    "   * mode     = How the image will be read into the notebook; either 'native' (default), 'rgb', 'gray', 'csv', or 'envi'"
   ]
  },
  {
   "cell_type": "code",
   "execution_count": null,
   "id": "964f1012",
   "metadata": {},
   "outputs": [],
   "source": [
    "# read hyperspectral image. With the ENVI format the input file should be a .raw. \n",
    "#If you were using a differen format the filename should be a .hdr file that includes information for shaping data (see readimage instructions)\n",
    "spectral_array = pcv.readimage(filename=args.image1, mode='envi')"
   ]
  },
  {
   "cell_type": "code",
   "execution_count": null,
   "id": "a41f3f53-323a-4a1d-a02b-32dae0b70018",
   "metadata": {},
   "outputs": [],
   "source": [
    "# Read in dark and white reference files, please note that the one of the dimensions (likely width needs to match your raw data)\n",
    "\n",
    "white_img= \"./img/white_reference_crop.raw\"\n",
    "dark_img= \"./img/dark_reference_crop.raw\"\n",
    "\n",
    "white_ref = pcv.readimage(filename= white_img, mode='envi')\n",
    "dark_ref= pcv.readimage(filename= dark_img, mode='envi')"
   ]
  },
  {
   "cell_type": "code",
   "execution_count": null,
   "id": "10eed0ee-e4f5-4e23-b729-d645fa046287",
   "metadata": {},
   "outputs": [],
   "source": [
    "# Calibrate data to white and dark references\n",
    "\n",
    "calibrated_data = pcv.hyperspectral.calibrate(raw_data=spectral_array, white_reference=white_ref, dark_reference=dark_ref)"
   ]
  },
  {
   "cell_type": "code",
   "execution_count": null,
   "id": "7190c1b4-6fd9-4956-aa6a-f6250d7560f8",
   "metadata": {},
   "outputs": [],
   "source": [
    "# Calculate the Carotenoid Index from the datacube \n",
    "\n",
    "index_array_car  = pcv.spectral_index.psri(hsi=calibrated_data, distance=5)\n"
   ]
  },
  {
   "cell_type": "code",
   "execution_count": null,
   "id": "9ec1bc07-1152-49c9-a087-721505d1e5c2",
   "metadata": {},
   "outputs": [],
   "source": [
    "#Next step is to segment the target object from the background pixels\n",
    "#This step is just to aid in picking a changel with good constrast between the target object and background\n",
    "\n",
    "colorspace_img = pcv.visualize.colorspaces(rgb_img=calibrated_data.pseudo_rgb)"
   ]
  },
  {
   "cell_type": "code",
   "execution_count": null,
   "id": "16bbc962-bdf3-4f2f-a59a-84c4a0621c0e",
   "metadata": {},
   "outputs": [],
   "source": [
    "#In this example the l channel from LAB colorspace looks like it has good contrast.\n",
    "#Alternatively instead of using the pseudo_rgb image you could calculate an index from the hyperspectral values by\n",
    "# using the 'pcv.spectral_index' function and finding an index that has good seperation between object and background\n",
    "# then thresholding like this pipeline does\n",
    "\n",
    "l = pcv.rgb2gray_lab(rgb_img=calibrated_data.pseudo_rgb, channel='l')"
   ]
  },
  {
   "cell_type": "code",
   "execution_count": null,
   "id": "873e50f2-7271-4e63-944c-04ba6b6372b9",
   "metadata": {},
   "outputs": [],
   "source": [
    "#plot histogram of data to more easily select a threshold. \n",
    "# Please note this step would not be included in a workflow when run in parallel\n",
    "\n",
    "hist_figure1= pcv.visualize.histogram(l, bins=10)"
   ]
  },
  {
   "cell_type": "code",
   "execution_count": null,
   "id": "b6088eb2-f385-4ca8-9e1f-49636c6290e1",
   "metadata": {},
   "outputs": [],
   "source": [
    "# Select a threshold value that isolates your target object well. If necessary do additional steps to clean up the mask.\n",
    "\n",
    "corn_thresh = pcv.threshold.binary(gray_img=l, threshold=100)"
   ]
  },
  {
   "cell_type": "code",
   "execution_count": null,
   "id": "2bd4aafa-3228-4c83-8265-d4d354a8e81d",
   "metadata": {},
   "outputs": [],
   "source": [
    "# Look at a histogram of the hyperspectral data, if you had more than one object you would need a matrix with \n",
    "# each object labeled with a different value.\n",
    "\n",
    "spectral_hist  = pcv.analyze.spectral_reflectance(hsi=calibrated_data, labeled_mask=corn_thresh, n_labels=1, label=\"kernel\")"
   ]
  },
  {
   "cell_type": "code",
   "execution_count": null,
   "id": "8b409dd2-f9c5-41d1-a80d-5df3e735d98a",
   "metadata": {},
   "outputs": [],
   "source": [
    "# Calculate an index (many are available see plantcv.spectral_index)\n",
    "# Or you can calculate your own manually by using plantcv.hyperspectral.extract_wavelength\n",
    "ndvi_index  = pcv.spectral_index.ndvi(hsi=calibrated_data, distance=20)"
   ]
  },
  {
   "cell_type": "code",
   "execution_count": null,
   "id": "745ded87-0b48-49f5-9e2c-d4480478c6f1",
   "metadata": {},
   "outputs": [],
   "source": [
    "# Graph the histogram of the spectral index\n",
    "\n",
    "ndvi_output=pcv.analyze.spectral_index(index_img=ndvi_index, labeled_mask=corn_thresh,\n",
    "                           min_bin=-1, max_bin=1, label=\"kernel\")"
   ]
  },
  {
   "cell_type": "code",
   "execution_count": null,
   "id": "3bc307da-72cd-4787-8df6-b58f84a66bde",
   "metadata": {},
   "outputs": [],
   "source": [
    "# pseudocolor the image as a visualization\n",
    "\n",
    "ndvi_img = pcv.visualize.pseudocolor(gray_img = ndvi_index.array_data, mask=corn_thresh, cmap='jet', \n",
    "                                           min_value=-1, max_value=1)"
   ]
  },
  {
   "cell_type": "code",
   "execution_count": null,
   "id": "f75e6bc2-7329-4f27-beed-d159350f67c4",
   "metadata": {},
   "outputs": [],
   "source": [
    "# Calculate an index (many are available see plantcv.spectral_index)\n",
    "# Or you can calculate your own manually by using plantcv.hyperspectral.extract_wavelength\n",
    "ari_index  = pcv.spectral_index.ari(hsi=calibrated_data, distance=20)"
   ]
  },
  {
   "cell_type": "code",
   "execution_count": null,
   "id": "e194b941-bf6b-43b2-9e32-85573f85947d",
   "metadata": {},
   "outputs": [],
   "source": [
    "# Graph the histogram of the spectral index\n",
    "\n",
    "ari_output=pcv.analyze.spectral_index(index_img=ari_index, labeled_mask=corn_thresh,\n",
    "                           min_bin=-5, max_bin=5, label=\"kernel\")"
   ]
  },
  {
   "cell_type": "code",
   "execution_count": null,
   "id": "3b15ffe1-60a5-44d3-a55f-8cca78a577b1",
   "metadata": {},
   "outputs": [],
   "source": [
    "ari_img = pcv.visualize.pseudocolor(gray_img = ari_index.array_data, mask=corn_thresh, cmap='jet', \n",
    "                                           min_value=-5, max_value=5)"
   ]
  },
  {
   "cell_type": "code",
   "execution_count": null,
   "id": "4c72b159-f24b-4376-bc20-4ff44ee47a86",
   "metadata": {},
   "outputs": [],
   "source": [
    "#Do shape analysis (the output image will look a little strange because the image is so small)\n",
    "\n",
    "shape_image = pcv.analyze.size(img=calibrated_data.pseudo_rgb, labeled_mask=corn_thresh, n_labels=1, label=\"kernel\")\n",
    "\n",
    "#print out results just to see (this wouldn't be included in a workflow run in parallel)\n",
    "area = pcv.outputs.observations['kernel1']['area']['value']\n",
    "print(area)"
   ]
  },
  {
   "cell_type": "code",
   "execution_count": null,
   "id": "99bd3d40-f1d8-4ce9-9a05-754a9a3f836d",
   "metadata": {},
   "outputs": [],
   "source": [
    "# Save out the results\n",
    "\n",
    "pcv.outputs.save_results(filename =args.result, outformat = \"json\" )"
   ]
  }
 ],
 "metadata": {
  "kernelspec": {
   "display_name": "Python 3 (ipykernel)",
   "language": "python",
   "name": "python3"
  },
  "language_info": {
   "codemirror_mode": {
    "name": "ipython",
    "version": 3
   },
   "file_extension": ".py",
   "mimetype": "text/x-python",
   "name": "python",
   "nbconvert_exporter": "python",
   "pygments_lexer": "ipython3",
   "version": "3.11.10"
  }
 },
 "nbformat": 4,
 "nbformat_minor": 5
}
